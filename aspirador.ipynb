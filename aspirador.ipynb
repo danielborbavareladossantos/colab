{
  "nbformat": 4,
  "nbformat_minor": 0,
  "metadata": {
    "colab": {
      "name": "aspirador.ipynb",
      "provenance": [],
      "collapsed_sections": [],
      "authorship_tag": "ABX9TyP/tRWjeH+WymI0YpLKCc+x",
      "include_colab_link": true
    },
    "kernelspec": {
      "name": "python3",
      "display_name": "Python 3"
    }
  },
  "cells": [
    {
      "cell_type": "markdown",
      "metadata": {
        "id": "view-in-github",
        "colab_type": "text"
      },
      "source": [
        "<a href=\"https://colab.research.google.com/github/danielborbavareladossantos/colab/blob/master/aspirador.ipynb\" target=\"_parent\"><img src=\"https://colab.research.google.com/assets/colab-badge.svg\" alt=\"Open In Colab\"/></a>"
      ]
    },
    {
      "cell_type": "markdown",
      "metadata": {
        "id": "iJXAxpBj2R94",
        "colab_type": "text"
      },
      "source": [
        "O robo ficara executando sem parar, será nescessário forçar a parada, ou limitar usando o for invés de while, função já esta ali so precisa descomentar. Caso queira executar de maneira estatica também esta no código só será necessário descomentar o estático e comentar o dinâmico"
      ]
    },
    {
      "cell_type": "code",
      "metadata": {
        "id": "fvqjZZaBnGnb",
        "colab_type": "code",
        "colab": {
          "base_uri": "https://localhost:8080/",
          "height": 589
        },
        "outputId": "9c7dcb2a-af43-4db1-c7c7-9f77bbbe220d"
      },
      "source": [
        "import matplotlib.pyplot as plt\n",
        "from IPython.display import clear_output\n",
        "from random import randrange\n",
        "\n",
        "# Define direções que o robo irá seguir\n",
        "direcao = 0\n",
        "elevacao = 0\n",
        "\n",
        "# Declaração da matriz de ambiente do robo (dinamico)\n",
        "m = []\n",
        "# Ambiente do robo (estatico)\n",
        "# m = [\n",
        "#      [1,1,1,1,1,1],\n",
        "#      [1,0,0,0,0,1],\n",
        "#      [1,2,0,0,0,1],\n",
        "#      [1,0,0,0,0,1],\n",
        "#      [1,0,0,2,2,1],\n",
        "#      [1,1,1,1,1,1],\n",
        "# ]\n",
        "\n",
        "# Tamanho da matriz\n",
        "tam = 10\n",
        "\n",
        "# Neste caso o robo começa na posição [1][1]\n",
        "# posX = 1\n",
        "# posY = 1\n",
        "# Neste caso o robo começa em posições aleatórias\n",
        "posX = randrange(1,tam-1)\n",
        "posY = randrange(1,tam-1)\n",
        "\n",
        "def geradorDeMundos(tamanho):\n",
        "  global m\n",
        "\n",
        "  for x in range(0,tamanho+1):\n",
        "    linha = []\n",
        "    for y in range(0,tamanho+1):\n",
        "\n",
        "      if (y==0 or x==0 or y == tamanho or x == tamanho):\n",
        "        linha.append(1)\n",
        "      else:\n",
        "        linha.append(2 if(randrange(0,50)>25) else 0)\n",
        "\n",
        "    m.append(linha)\n",
        "\n",
        "# Trabalha com o canvas\n",
        "def exibir(matriz):\n",
        "\n",
        "  # Para dev.\n",
        "  # for i in range(0, 40):\n",
        "\n",
        "  # Execute eterno\n",
        "  while(True):\n",
        "\n",
        "    # Mostrar matriz\n",
        "    plt.imshow(matriz, 'gray')\n",
        "    plt.plot(posX, posY, '*r', 'LineWidth', 5)\n",
        "    plt.show(block=False)\n",
        "\n",
        "    # Chama função de lógica\n",
        "    theWalkingClean()\n",
        "    # Pausa a execução do código por 0,5 segundos, para facilitar a visualização\n",
        "    plt.pause(0.5)\n",
        "    plt.clf()\n",
        "\n",
        "    # Limpa plots para dar efeito de frames\n",
        "    clear_output(wait=True)\n",
        "\n",
        "# Faz lógica do robo\n",
        "def theWalkingClean():\n",
        "\n",
        "  # Declarações de variaveis globais\n",
        "  global posX\n",
        "  global posY\n",
        "  global m\n",
        "  global direcao\n",
        "  global elevacao\n",
        "\n",
        "  # Suga toda sujeira\n",
        "  if m[posY][posX] == 2:\n",
        "    m[posY][posX] = 0\n",
        "\n",
        "  # Verifica se não ta na hora de começar a subir\n",
        "  if (m[posY][posX-1] == 1) and (m[posY+1][posX] == 1) and elevacao == 0:\n",
        "    elevacao = 1\n",
        "\n",
        "  # Verifica se não ta na hora de começar a descer\n",
        "  if (m[posY][posX+1] == 1) and (m[posY-1][posX] == 1) and elevacao == 1:\n",
        "    elevacao = 0\n",
        "\n",
        "  # Verifica se não ta na hora de mudar de direção (Esquerda)\n",
        "  if m[posY][posX+1] == 1 and direcao == 0:\n",
        "    # Com base na elevação\n",
        "    if elevacao == 0:\n",
        "      posY += 1\n",
        "    if elevacao == 1:\n",
        "      posY -= 1\n",
        "    direcao = 1\n",
        "    return\n",
        "\n",
        "  # Verifica se não ta na hora de mudar de direção (Direita)\n",
        "  if m[posY][posX-1] == 1 and direcao == 1:\n",
        "    # Com base na elevação\n",
        "    if elevacao == 0:\n",
        "      posY += 1\n",
        "    if elevacao == 1:\n",
        "      posY -= 1\n",
        "    direcao = 0\n",
        "    return\n",
        "\n",
        "  # Se tiver indo para direita avança uma casa\n",
        "  if ((m[posY][posX+1] == 0) or (m[posY][posX+1] == 2)) and direcao == 0:\n",
        "    posX += 1\n",
        "\n",
        "  # Se tiver indo para esquerda avança uma casa\n",
        "  if ((m[posY][posX-1] == 0) or (m[posY][posX-1] == 2)) and direcao == 1:\n",
        "    posX -= 1\n",
        "\n",
        "# Gerar mundo aleatório\n",
        "geradorDeMundos(tam)\n",
        "# Chamada da função principal\n",
        "exibir(m)"
      ],
      "execution_count": null,
      "outputs": [
        {
          "output_type": "display_data",
          "data": {
            "image/png": "[encoded data removed]",
            "text/plain": [
              "<Figure size 432x288 with 1 Axes>"
            ]
          },
          "metadata": {
            "tags": [],
            "needs_background": "light"
          }
        },
        {
          "output_type": "error",
          "ename": "KeyboardInterrupt",
          "evalue": "ignored",
          "traceback": [
            "\u001b[0;31m---------------------------------------------------------------------------\u001b[0m",
            "\u001b[0;31mKeyboardInterrupt\u001b[0m                         Traceback (most recent call last)",
            "\u001b[0;32m<ipython-input-80-e1f2bdac2256>\u001b[0m in \u001b[0;36m<module>\u001b[0;34m()\u001b[0m\n\u001b[1;32m    118\u001b[0m \u001b[0mgeradorDeMundos\u001b[0m\u001b[0;34m(\u001b[0m\u001b[0mtam\u001b[0m\u001b[0;34m)\u001b[0m\u001b[0;34m\u001b[0m\u001b[0;34m\u001b[0m\u001b[0m\n\u001b[1;32m    119\u001b[0m \u001b[0;31m# Chamada da função principal\u001b[0m\u001b[0;34m\u001b[0m\u001b[0;34m\u001b[0m\u001b[0;34m\u001b[0m\u001b[0m\n\u001b[0;32m--> 120\u001b[0;31m \u001b[0mexibir\u001b[0m\u001b[0;34m(\u001b[0m\u001b[0mm\u001b[0m\u001b[0;34m)\u001b[0m\u001b[0;34m\u001b[0m\u001b[0;34m\u001b[0m\u001b[0m\n\u001b[0m",
            "\u001b[0;32m<ipython-input-80-e1f2bdac2256>\u001b[0m in \u001b[0;36mexibir\u001b[0;34m(matriz)\u001b[0m\n\u001b[1;32m     59\u001b[0m     \u001b[0mtheWalkingClean\u001b[0m\u001b[0;34m(\u001b[0m\u001b[0;34m)\u001b[0m\u001b[0;34m\u001b[0m\u001b[0;34m\u001b[0m\u001b[0m\n\u001b[1;32m     60\u001b[0m     \u001b[0;31m# Pausa a execução do código por 0,5 segundos, para facilitar a visualização\u001b[0m\u001b[0;34m\u001b[0m\u001b[0;34m\u001b[0m\u001b[0;34m\u001b[0m\u001b[0m\n\u001b[0;32m---> 61\u001b[0;31m     \u001b[0mplt\u001b[0m\u001b[0;34m.\u001b[0m\u001b[0mpause\u001b[0m\u001b[0;34m(\u001b[0m\u001b[0;36m0.5\u001b[0m\u001b[0;34m)\u001b[0m\u001b[0;34m\u001b[0m\u001b[0;34m\u001b[0m\u001b[0m\n\u001b[0m\u001b[1;32m     62\u001b[0m     \u001b[0mplt\u001b[0m\u001b[0;34m.\u001b[0m\u001b[0mclf\u001b[0m\u001b[0;34m(\u001b[0m\u001b[0;34m)\u001b[0m\u001b[0;34m\u001b[0m\u001b[0;34m\u001b[0m\u001b[0m\n\u001b[1;32m     63\u001b[0m \u001b[0;34m\u001b[0m\u001b[0m\n",
            "\u001b[0;32m/usr/local/lib/python3.6/dist-packages/matplotlib/pyplot.py\u001b[0m in \u001b[0;36mpause\u001b[0;34m(interval)\u001b[0m\n\u001b[1;32m    313\u001b[0m         \u001b[0mcanvas\u001b[0m\u001b[0;34m.\u001b[0m\u001b[0mstart_event_loop\u001b[0m\u001b[0;34m(\u001b[0m\u001b[0minterval\u001b[0m\u001b[0;34m)\u001b[0m\u001b[0;34m\u001b[0m\u001b[0;34m\u001b[0m\u001b[0m\n\u001b[1;32m    314\u001b[0m     \u001b[0;32melse\u001b[0m\u001b[0;34m:\u001b[0m\u001b[0;34m\u001b[0m\u001b[0;34m\u001b[0m\u001b[0m\n\u001b[0;32m--> 315\u001b[0;31m         \u001b[0mtime\u001b[0m\u001b[0;34m.\u001b[0m\u001b[0msleep\u001b[0m\u001b[0;34m(\u001b[0m\u001b[0minterval\u001b[0m\u001b[0;34m)\u001b[0m\u001b[0;34m\u001b[0m\u001b[0;34m\u001b[0m\u001b[0m\n\u001b[0m\u001b[1;32m    316\u001b[0m \u001b[0;34m\u001b[0m\u001b[0m\n\u001b[1;32m    317\u001b[0m \u001b[0;34m\u001b[0m\u001b[0m\n",
            "\u001b[0;31mKeyboardInterrupt\u001b[0m: "
          ]
        }
      ]
    },
    {
      "cell_type": "markdown",
      "metadata": {
        "id": "Q1HgoHgD1TfL",
        "colab_type": "text"
      },
      "source": [
        "Teste de função gerador de mundos"
      ]
    },
    {
      "cell_type": "code",
      "metadata": {
        "id": "TiV9A2W7vcTr",
        "colab_type": "code",
        "colab": {
          "base_uri": "https://localhost:8080/",
          "height": 34
        },
        "outputId": "6f16184a-2fc1-485b-f489-63c93d1fcbb4"
      },
      "source": [
        "from random import randrange\n",
        "\n",
        "m = []\n",
        "\n",
        "def geradorDeMundos():\n",
        "  global m\n",
        "  tamanho = 6\n",
        "\n",
        "  for x in range(0,tamanho+1):\n",
        "    linha = []\n",
        "    for y in range(0,tamanho+1):\n",
        "\n",
        "      if (y==0 or x==0 or y == tamanho or x == tamanho):\n",
        "        linha.append(1)\n",
        "      else:\n",
        "        linha.append(2 if(randrange(0,50)>25) else 0)\n",
        "\n",
        "    m.append(linha)\n",
        "\n",
        "geradorDeMundos()\n",
        "print(m)"
      ],
      "execution_count": null,
      "outputs": [
        {
          "output_type": "stream",
          "text": [
            "[[1, 1, 1, 1, 1, 1, 1], [1, 2, 0, 2, 2, 0, 1], [1, 2, 0, 0, 0, 2, 1], [1, 0, 2, 0, 0, 0, 1], [1, 2, 0, 0, 0, 0, 1], [1, 0, 2, 2, 2, 2, 1], [1, 1, 1, 1, 1, 1, 1]]\n"
          ],
          "name": "stdout"
        }
      ]
    }
  ]
}